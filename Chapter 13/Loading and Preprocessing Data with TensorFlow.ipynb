{
 "cells": [
  {
   "cell_type": "code",
   "id": "initial_id",
   "metadata": {
    "collapsed": true,
    "ExecuteTime": {
     "end_time": "2025-03-03T03:52:34.408116Z",
     "start_time": "2025-03-03T03:52:31.983103Z"
    }
   },
   "source": "import tensorflow as tf",
   "outputs": [],
   "execution_count": 1
  },
  {
   "metadata": {
    "ExecuteTime": {
     "end_time": "2025-03-03T03:53:02.358891Z",
     "start_time": "2025-03-03T03:53:02.349300Z"
    }
   },
   "cell_type": "code",
   "source": [
    "X = tf.range(10)\n",
    "dataset = tf.data.Dataset.from_tensor_slices(X)\n",
    "dataset"
   ],
   "id": "80864f9febbe1392",
   "outputs": [
    {
     "data": {
      "text/plain": [
       "<_TensorSliceDataset element_spec=TensorSpec(shape=(), dtype=tf.int32, name=None)>"
      ]
     },
     "execution_count": 4,
     "metadata": {},
     "output_type": "execute_result"
    }
   ],
   "execution_count": 4
  },
  {
   "metadata": {
    "ExecuteTime": {
     "end_time": "2025-03-03T03:53:54.874465Z",
     "start_time": "2025-03-03T03:53:54.868581Z"
    }
   },
   "cell_type": "code",
   "source": [
    "for item in dataset:\n",
    "    print(item)"
   ],
   "id": "a528290f6ce78a35",
   "outputs": [
    {
     "name": "stdout",
     "output_type": "stream",
     "text": [
      "tf.Tensor(0, shape=(), dtype=int32)\n",
      "tf.Tensor(1, shape=(), dtype=int32)\n",
      "tf.Tensor(2, shape=(), dtype=int32)\n",
      "tf.Tensor(3, shape=(), dtype=int32)\n",
      "tf.Tensor(4, shape=(), dtype=int32)\n",
      "tf.Tensor(5, shape=(), dtype=int32)\n",
      "tf.Tensor(6, shape=(), dtype=int32)\n",
      "tf.Tensor(7, shape=(), dtype=int32)\n",
      "tf.Tensor(8, shape=(), dtype=int32)\n",
      "tf.Tensor(9, shape=(), dtype=int32)\n"
     ]
    },
    {
     "name": "stderr",
     "output_type": "stream",
     "text": [
      "2025-03-03 12:53:54.872636: I tensorflow/core/framework/local_rendezvous.cc:405] Local rendezvous is aborting with status: OUT_OF_RANGE: End of sequence\n"
     ]
    }
   ],
   "execution_count": 6
  },
  {
   "metadata": {
    "ExecuteTime": {
     "end_time": "2025-03-03T03:54:53.885827Z",
     "start_time": "2025-03-03T03:54:53.870344Z"
    }
   },
   "cell_type": "code",
   "source": [
    "dataset = dataset.repeat(3).batch(7)\n",
    "for item in dataset:\n",
    "    print(item)\n"
   ],
   "id": "a7c6cb8397a888a8",
   "outputs": [
    {
     "name": "stdout",
     "output_type": "stream",
     "text": [
      "tf.Tensor([0 1 2 3 4 5 6], shape=(7,), dtype=int32)\n",
      "tf.Tensor([7 8 9 0 1 2 3], shape=(7,), dtype=int32)\n",
      "tf.Tensor([4 5 6 7 8 9 0], shape=(7,), dtype=int32)\n",
      "tf.Tensor([1 2 3 4 5 6 7], shape=(7,), dtype=int32)\n",
      "tf.Tensor([8 9], shape=(2,), dtype=int32)\n"
     ]
    }
   ],
   "execution_count": 7
  },
  {
   "metadata": {
    "ExecuteTime": {
     "end_time": "2025-03-03T03:59:55.625798Z",
     "start_time": "2025-03-03T03:59:55.592486Z"
    }
   },
   "cell_type": "code",
   "source": [
    "dataset = dataset.map(lambda x: X * 2)\n",
    "\n",
    "for item in dataset:\n",
    "    print(item)"
   ],
   "id": "15895d83f87ea157",
   "outputs": [
    {
     "name": "stdout",
     "output_type": "stream",
     "text": [
      "tf.Tensor([ 0  2  4  6  8 10 12 14 16 18], shape=(10,), dtype=int32)\n",
      "tf.Tensor([ 0  2  4  6  8 10 12 14 16 18], shape=(10,), dtype=int32)\n",
      "tf.Tensor([ 0  2  4  6  8 10 12 14 16 18], shape=(10,), dtype=int32)\n",
      "tf.Tensor([ 0  2  4  6  8 10 12 14 16 18], shape=(10,), dtype=int32)\n",
      "tf.Tensor([ 0  2  4  6  8 10 12 14 16 18], shape=(10,), dtype=int32)\n",
      "tf.Tensor([ 0  2  4  6  8 10 12 14 16 18], shape=(10,), dtype=int32)\n",
      "tf.Tensor([ 0  2  4  6  8 10 12 14 16 18], shape=(10,), dtype=int32)\n",
      "tf.Tensor([ 0  2  4  6  8 10 12 14 16 18], shape=(10,), dtype=int32)\n",
      "tf.Tensor([ 0  2  4  6  8 10 12 14 16 18], shape=(10,), dtype=int32)\n",
      "tf.Tensor([ 0  2  4  6  8 10 12 14 16 18], shape=(10,), dtype=int32)\n",
      "tf.Tensor([ 0  2  4  6  8 10 12 14 16 18], shape=(10,), dtype=int32)\n",
      "tf.Tensor([ 0  2  4  6  8 10 12 14 16 18], shape=(10,), dtype=int32)\n",
      "tf.Tensor([ 0  2  4  6  8 10 12 14 16 18], shape=(10,), dtype=int32)\n",
      "tf.Tensor([ 0  2  4  6  8 10 12 14 16 18], shape=(10,), dtype=int32)\n",
      "tf.Tensor([ 0  2  4  6  8 10 12 14 16 18], shape=(10,), dtype=int32)\n",
      "tf.Tensor([ 0  2  4  6  8 10 12 14 16 18], shape=(10,), dtype=int32)\n",
      "tf.Tensor([ 0  2  4  6  8 10 12 14 16 18], shape=(10,), dtype=int32)\n",
      "tf.Tensor([ 0  2  4  6  8 10 12 14 16 18], shape=(10,), dtype=int32)\n",
      "tf.Tensor([ 0  2  4  6  8 10 12 14 16 18], shape=(10,), dtype=int32)\n",
      "tf.Tensor([ 0  2  4  6  8 10 12 14 16 18], shape=(10,), dtype=int32)\n",
      "tf.Tensor([ 0  2  4  6  8 10 12 14 16 18], shape=(10,), dtype=int32)\n",
      "tf.Tensor([ 0  2  4  6  8 10 12 14 16 18], shape=(10,), dtype=int32)\n",
      "tf.Tensor([ 0  2  4  6  8 10 12 14 16 18], shape=(10,), dtype=int32)\n",
      "tf.Tensor([ 0  2  4  6  8 10 12 14 16 18], shape=(10,), dtype=int32)\n",
      "tf.Tensor([ 0  2  4  6  8 10 12 14 16 18], shape=(10,), dtype=int32)\n",
      "tf.Tensor([ 0  2  4  6  8 10 12 14 16 18], shape=(10,), dtype=int32)\n",
      "tf.Tensor([ 0  2  4  6  8 10 12 14 16 18], shape=(10,), dtype=int32)\n",
      "tf.Tensor([ 0  2  4  6  8 10 12 14 16 18], shape=(10,), dtype=int32)\n",
      "tf.Tensor([ 0  2  4  6  8 10 12 14 16 18], shape=(10,), dtype=int32)\n",
      "tf.Tensor([ 0  2  4  6  8 10 12 14 16 18], shape=(10,), dtype=int32)\n",
      "tf.Tensor([ 0  2  4  6  8 10 12 14 16 18], shape=(10,), dtype=int32)\n",
      "tf.Tensor([ 0  2  4  6  8 10 12 14 16 18], shape=(10,), dtype=int32)\n",
      "tf.Tensor([ 0  2  4  6  8 10 12 14 16 18], shape=(10,), dtype=int32)\n",
      "tf.Tensor([ 0  2  4  6  8 10 12 14 16 18], shape=(10,), dtype=int32)\n",
      "tf.Tensor([ 0  2  4  6  8 10 12 14 16 18], shape=(10,), dtype=int32)\n",
      "tf.Tensor([ 0  2  4  6  8 10 12 14 16 18], shape=(10,), dtype=int32)\n",
      "tf.Tensor([ 0  2  4  6  8 10 12 14 16 18], shape=(10,), dtype=int32)\n",
      "tf.Tensor([ 0  2  4  6  8 10 12 14 16 18], shape=(10,), dtype=int32)\n",
      "tf.Tensor([ 0  2  4  6  8 10 12 14 16 18], shape=(10,), dtype=int32)\n",
      "tf.Tensor([ 0  2  4  6  8 10 12 14 16 18], shape=(10,), dtype=int32)\n",
      "tf.Tensor([ 0  2  4  6  8 10 12 14 16 18], shape=(10,), dtype=int32)\n",
      "tf.Tensor([ 0  2  4  6  8 10 12 14 16 18], shape=(10,), dtype=int32)\n",
      "tf.Tensor([ 0  2  4  6  8 10 12 14 16 18], shape=(10,), dtype=int32)\n",
      "tf.Tensor([ 0  2  4  6  8 10 12 14 16 18], shape=(10,), dtype=int32)\n",
      "tf.Tensor([ 0  2  4  6  8 10 12 14 16 18], shape=(10,), dtype=int32)\n",
      "tf.Tensor([ 0  2  4  6  8 10 12 14 16 18], shape=(10,), dtype=int32)\n",
      "tf.Tensor([ 0  2  4  6  8 10 12 14 16 18], shape=(10,), dtype=int32)\n",
      "tf.Tensor([ 0  2  4  6  8 10 12 14 16 18], shape=(10,), dtype=int32)\n",
      "tf.Tensor([ 0  2  4  6  8 10 12 14 16 18], shape=(10,), dtype=int32)\n",
      "tf.Tensor([ 0  2  4  6  8 10 12 14 16 18], shape=(10,), dtype=int32)\n",
      "tf.Tensor([ 0  2  4  6  8 10 12 14 16 18], shape=(10,), dtype=int32)\n",
      "tf.Tensor([ 0  2  4  6  8 10 12 14 16 18], shape=(10,), dtype=int32)\n",
      "tf.Tensor([ 0  2  4  6  8 10 12 14 16 18], shape=(10,), dtype=int32)\n",
      "tf.Tensor([ 0  2  4  6  8 10 12 14 16 18], shape=(10,), dtype=int32)\n",
      "tf.Tensor([ 0  2  4  6  8 10 12 14 16 18], shape=(10,), dtype=int32)\n",
      "tf.Tensor([ 0  2  4  6  8 10 12 14 16 18], shape=(10,), dtype=int32)\n",
      "tf.Tensor([ 0  2  4  6  8 10 12 14 16 18], shape=(10,), dtype=int32)\n",
      "tf.Tensor([ 0  2  4  6  8 10 12 14 16 18], shape=(10,), dtype=int32)\n",
      "tf.Tensor([ 0  2  4  6  8 10 12 14 16 18], shape=(10,), dtype=int32)\n",
      "tf.Tensor([ 0  2  4  6  8 10 12 14 16 18], shape=(10,), dtype=int32)\n",
      "tf.Tensor([ 0  2  4  6  8 10 12 14 16 18], shape=(10,), dtype=int32)\n",
      "tf.Tensor([ 0  2  4  6  8 10 12 14 16 18], shape=(10,), dtype=int32)\n",
      "tf.Tensor([ 0  2  4  6  8 10 12 14 16 18], shape=(10,), dtype=int32)\n",
      "tf.Tensor([ 0  2  4  6  8 10 12 14 16 18], shape=(10,), dtype=int32)\n",
      "tf.Tensor([ 0  2  4  6  8 10 12 14 16 18], shape=(10,), dtype=int32)\n",
      "tf.Tensor([ 0  2  4  6  8 10 12 14 16 18], shape=(10,), dtype=int32)\n",
      "tf.Tensor([ 0  2  4  6  8 10 12 14 16 18], shape=(10,), dtype=int32)\n",
      "tf.Tensor([ 0  2  4  6  8 10 12 14 16 18], shape=(10,), dtype=int32)\n",
      "tf.Tensor([ 0  2  4  6  8 10 12 14 16 18], shape=(10,), dtype=int32)\n",
      "tf.Tensor([ 0  2  4  6  8 10 12 14 16 18], shape=(10,), dtype=int32)\n",
      "tf.Tensor([ 0  2  4  6  8 10 12 14 16 18], shape=(10,), dtype=int32)\n",
      "tf.Tensor([ 0  2  4  6  8 10 12 14 16 18], shape=(10,), dtype=int32)\n",
      "tf.Tensor([ 0  2  4  6  8 10 12 14 16 18], shape=(10,), dtype=int32)\n",
      "tf.Tensor([ 0  2  4  6  8 10 12 14 16 18], shape=(10,), dtype=int32)\n",
      "tf.Tensor([ 0  2  4  6  8 10 12 14 16 18], shape=(10,), dtype=int32)\n",
      "tf.Tensor([ 0  2  4  6  8 10 12 14 16 18], shape=(10,), dtype=int32)\n",
      "tf.Tensor([ 0  2  4  6  8 10 12 14 16 18], shape=(10,), dtype=int32)\n",
      "tf.Tensor([ 0  2  4  6  8 10 12 14 16 18], shape=(10,), dtype=int32)\n",
      "tf.Tensor([ 0  2  4  6  8 10 12 14 16 18], shape=(10,), dtype=int32)\n",
      "tf.Tensor([ 0  2  4  6  8 10 12 14 16 18], shape=(10,), dtype=int32)\n",
      "tf.Tensor([ 0  2  4  6  8 10 12 14 16 18], shape=(10,), dtype=int32)\n",
      "tf.Tensor([ 0  2  4  6  8 10 12 14 16 18], shape=(10,), dtype=int32)\n",
      "tf.Tensor([ 0  2  4  6  8 10 12 14 16 18], shape=(10,), dtype=int32)\n",
      "tf.Tensor([ 0  2  4  6  8 10 12 14 16 18], shape=(10,), dtype=int32)\n",
      "tf.Tensor([ 0  2  4  6  8 10 12 14 16 18], shape=(10,), dtype=int32)\n",
      "tf.Tensor([ 0  2  4  6  8 10 12 14 16 18], shape=(10,), dtype=int32)\n",
      "tf.Tensor([ 0  2  4  6  8 10 12 14 16 18], shape=(10,), dtype=int32)\n",
      "tf.Tensor([ 0  2  4  6  8 10 12 14 16 18], shape=(10,), dtype=int32)\n",
      "tf.Tensor([ 0  2  4  6  8 10 12 14 16 18], shape=(10,), dtype=int32)\n",
      "tf.Tensor([ 0  2  4  6  8 10 12 14 16 18], shape=(10,), dtype=int32)\n",
      "tf.Tensor([ 0  2  4  6  8 10 12 14 16 18], shape=(10,), dtype=int32)\n",
      "tf.Tensor([ 0  2  4  6  8 10 12 14 16 18], shape=(10,), dtype=int32)\n",
      "tf.Tensor([ 0  2  4  6  8 10 12 14 16 18], shape=(10,), dtype=int32)\n",
      "tf.Tensor([ 0  2  4  6  8 10 12 14 16 18], shape=(10,), dtype=int32)\n",
      "tf.Tensor([ 0  2  4  6  8 10 12 14 16 18], shape=(10,), dtype=int32)\n",
      "tf.Tensor([ 0  2  4  6  8 10 12 14 16 18], shape=(10,), dtype=int32)\n",
      "tf.Tensor([ 0  2  4  6  8 10 12 14 16 18], shape=(10,), dtype=int32)\n",
      "tf.Tensor([ 0  2  4  6  8 10 12 14 16 18], shape=(10,), dtype=int32)\n",
      "tf.Tensor([ 0  2  4  6  8 10 12 14 16 18], shape=(10,), dtype=int32)\n",
      "tf.Tensor([ 0  2  4  6  8 10 12 14 16 18], shape=(10,), dtype=int32)\n",
      "tf.Tensor([ 0  2  4  6  8 10 12 14 16 18], shape=(10,), dtype=int32)\n",
      "tf.Tensor([ 0  2  4  6  8 10 12 14 16 18], shape=(10,), dtype=int32)\n",
      "tf.Tensor([ 0  2  4  6  8 10 12 14 16 18], shape=(10,), dtype=int32)\n",
      "tf.Tensor([ 0  2  4  6  8 10 12 14 16 18], shape=(10,), dtype=int32)\n",
      "tf.Tensor([ 0  2  4  6  8 10 12 14 16 18], shape=(10,), dtype=int32)\n",
      "tf.Tensor([ 0  2  4  6  8 10 12 14 16 18], shape=(10,), dtype=int32)\n",
      "tf.Tensor([ 0  2  4  6  8 10 12 14 16 18], shape=(10,), dtype=int32)\n",
      "tf.Tensor([ 0  2  4  6  8 10 12 14 16 18], shape=(10,), dtype=int32)\n",
      "tf.Tensor([ 0  2  4  6  8 10 12 14 16 18], shape=(10,), dtype=int32)\n",
      "tf.Tensor([ 0  2  4  6  8 10 12 14 16 18], shape=(10,), dtype=int32)\n",
      "tf.Tensor([ 0  2  4  6  8 10 12 14 16 18], shape=(10,), dtype=int32)\n",
      "tf.Tensor([ 0  2  4  6  8 10 12 14 16 18], shape=(10,), dtype=int32)\n",
      "tf.Tensor([ 0  2  4  6  8 10 12 14 16 18], shape=(10,), dtype=int32)\n",
      "tf.Tensor([ 0  2  4  6  8 10 12 14 16 18], shape=(10,), dtype=int32)\n",
      "tf.Tensor([ 0  2  4  6  8 10 12 14 16 18], shape=(10,), dtype=int32)\n",
      "tf.Tensor([ 0  2  4  6  8 10 12 14 16 18], shape=(10,), dtype=int32)\n",
      "tf.Tensor([ 0  2  4  6  8 10 12 14 16 18], shape=(10,), dtype=int32)\n",
      "tf.Tensor([ 0  2  4  6  8 10 12 14 16 18], shape=(10,), dtype=int32)\n",
      "tf.Tensor([ 0  2  4  6  8 10 12 14 16 18], shape=(10,), dtype=int32)\n",
      "tf.Tensor([ 0  2  4  6  8 10 12 14 16 18], shape=(10,), dtype=int32)\n",
      "tf.Tensor([ 0  2  4  6  8 10 12 14 16 18], shape=(10,), dtype=int32)\n",
      "tf.Tensor([ 0  2  4  6  8 10 12 14 16 18], shape=(10,), dtype=int32)\n",
      "tf.Tensor([ 0  2  4  6  8 10 12 14 16 18], shape=(10,), dtype=int32)\n",
      "tf.Tensor([ 0  2  4  6  8 10 12 14 16 18], shape=(10,), dtype=int32)\n",
      "tf.Tensor([ 0  2  4  6  8 10 12 14 16 18], shape=(10,), dtype=int32)\n",
      "tf.Tensor([ 0  2  4  6  8 10 12 14 16 18], shape=(10,), dtype=int32)\n",
      "tf.Tensor([ 0  2  4  6  8 10 12 14 16 18], shape=(10,), dtype=int32)\n",
      "tf.Tensor([ 0  2  4  6  8 10 12 14 16 18], shape=(10,), dtype=int32)\n",
      "tf.Tensor([ 0  2  4  6  8 10 12 14 16 18], shape=(10,), dtype=int32)\n",
      "tf.Tensor([ 0  2  4  6  8 10 12 14 16 18], shape=(10,), dtype=int32)\n",
      "tf.Tensor([ 0  2  4  6  8 10 12 14 16 18], shape=(10,), dtype=int32)\n",
      "tf.Tensor([ 0  2  4  6  8 10 12 14 16 18], shape=(10,), dtype=int32)\n",
      "tf.Tensor([ 0  2  4  6  8 10 12 14 16 18], shape=(10,), dtype=int32)\n",
      "tf.Tensor([ 0  2  4  6  8 10 12 14 16 18], shape=(10,), dtype=int32)\n",
      "tf.Tensor([ 0  2  4  6  8 10 12 14 16 18], shape=(10,), dtype=int32)\n",
      "tf.Tensor([ 0  2  4  6  8 10 12 14 16 18], shape=(10,), dtype=int32)\n",
      "tf.Tensor([ 0  2  4  6  8 10 12 14 16 18], shape=(10,), dtype=int32)\n",
      "tf.Tensor([ 0  2  4  6  8 10 12 14 16 18], shape=(10,), dtype=int32)\n",
      "tf.Tensor([ 0  2  4  6  8 10 12 14 16 18], shape=(10,), dtype=int32)\n",
      "tf.Tensor([ 0  2  4  6  8 10 12 14 16 18], shape=(10,), dtype=int32)\n",
      "tf.Tensor([ 0  2  4  6  8 10 12 14 16 18], shape=(10,), dtype=int32)\n",
      "tf.Tensor([ 0  2  4  6  8 10 12 14 16 18], shape=(10,), dtype=int32)\n",
      "tf.Tensor([ 0  2  4  6  8 10 12 14 16 18], shape=(10,), dtype=int32)\n",
      "tf.Tensor([ 0  2  4  6  8 10 12 14 16 18], shape=(10,), dtype=int32)\n",
      "tf.Tensor([ 0  2  4  6  8 10 12 14 16 18], shape=(10,), dtype=int32)\n",
      "tf.Tensor([ 0  2  4  6  8 10 12 14 16 18], shape=(10,), dtype=int32)\n",
      "tf.Tensor([ 0  2  4  6  8 10 12 14 16 18], shape=(10,), dtype=int32)\n",
      "tf.Tensor([ 0  2  4  6  8 10 12 14 16 18], shape=(10,), dtype=int32)\n",
      "tf.Tensor([ 0  2  4  6  8 10 12 14 16 18], shape=(10,), dtype=int32)\n",
      "tf.Tensor([ 0  2  4  6  8 10 12 14 16 18], shape=(10,), dtype=int32)\n",
      "tf.Tensor([ 0  2  4  6  8 10 12 14 16 18], shape=(10,), dtype=int32)\n",
      "tf.Tensor([ 0  2  4  6  8 10 12 14 16 18], shape=(10,), dtype=int32)\n",
      "tf.Tensor([ 0  2  4  6  8 10 12 14 16 18], shape=(10,), dtype=int32)\n",
      "tf.Tensor([ 0  2  4  6  8 10 12 14 16 18], shape=(10,), dtype=int32)\n",
      "tf.Tensor([ 0  2  4  6  8 10 12 14 16 18], shape=(10,), dtype=int32)\n",
      "tf.Tensor([ 0  2  4  6  8 10 12 14 16 18], shape=(10,), dtype=int32)\n",
      "tf.Tensor([ 0  2  4  6  8 10 12 14 16 18], shape=(10,), dtype=int32)\n",
      "tf.Tensor([ 0  2  4  6  8 10 12 14 16 18], shape=(10,), dtype=int32)\n",
      "tf.Tensor([ 0  2  4  6  8 10 12 14 16 18], shape=(10,), dtype=int32)\n",
      "tf.Tensor([ 0  2  4  6  8 10 12 14 16 18], shape=(10,), dtype=int32)\n",
      "tf.Tensor([ 0  2  4  6  8 10 12 14 16 18], shape=(10,), dtype=int32)\n",
      "tf.Tensor([ 0  2  4  6  8 10 12 14 16 18], shape=(10,), dtype=int32)\n",
      "tf.Tensor([ 0  2  4  6  8 10 12 14 16 18], shape=(10,), dtype=int32)\n",
      "tf.Tensor([ 0  2  4  6  8 10 12 14 16 18], shape=(10,), dtype=int32)\n",
      "tf.Tensor([ 0  2  4  6  8 10 12 14 16 18], shape=(10,), dtype=int32)\n",
      "tf.Tensor([ 0  2  4  6  8 10 12 14 16 18], shape=(10,), dtype=int32)\n",
      "tf.Tensor([ 0  2  4  6  8 10 12 14 16 18], shape=(10,), dtype=int32)\n",
      "tf.Tensor([ 0  2  4  6  8 10 12 14 16 18], shape=(10,), dtype=int32)\n",
      "tf.Tensor([ 0  2  4  6  8 10 12 14 16 18], shape=(10,), dtype=int32)\n",
      "tf.Tensor([ 0  2  4  6  8 10 12 14 16 18], shape=(10,), dtype=int32)\n",
      "tf.Tensor([ 0  2  4  6  8 10 12 14 16 18], shape=(10,), dtype=int32)\n",
      "tf.Tensor([ 0  2  4  6  8 10 12 14 16 18], shape=(10,), dtype=int32)\n",
      "tf.Tensor([ 0  2  4  6  8 10 12 14 16 18], shape=(10,), dtype=int32)\n",
      "tf.Tensor([ 0  2  4  6  8 10 12 14 16 18], shape=(10,), dtype=int32)\n",
      "tf.Tensor([ 0  2  4  6  8 10 12 14 16 18], shape=(10,), dtype=int32)\n",
      "tf.Tensor([ 0  2  4  6  8 10 12 14 16 18], shape=(10,), dtype=int32)\n",
      "tf.Tensor([ 0  2  4  6  8 10 12 14 16 18], shape=(10,), dtype=int32)\n",
      "tf.Tensor([ 0  2  4  6  8 10 12 14 16 18], shape=(10,), dtype=int32)\n",
      "tf.Tensor([ 0  2  4  6  8 10 12 14 16 18], shape=(10,), dtype=int32)\n",
      "tf.Tensor([ 0  2  4  6  8 10 12 14 16 18], shape=(10,), dtype=int32)\n",
      "tf.Tensor([ 0  2  4  6  8 10 12 14 16 18], shape=(10,), dtype=int32)\n",
      "tf.Tensor([ 0  2  4  6  8 10 12 14 16 18], shape=(10,), dtype=int32)\n",
      "tf.Tensor([ 0  2  4  6  8 10 12 14 16 18], shape=(10,), dtype=int32)\n",
      "tf.Tensor([ 0  2  4  6  8 10 12 14 16 18], shape=(10,), dtype=int32)\n",
      "tf.Tensor([ 0  2  4  6  8 10 12 14 16 18], shape=(10,), dtype=int32)\n",
      "tf.Tensor([ 0  2  4  6  8 10 12 14 16 18], shape=(10,), dtype=int32)\n",
      "tf.Tensor([ 0  2  4  6  8 10 12 14 16 18], shape=(10,), dtype=int32)\n",
      "tf.Tensor([ 0  2  4  6  8 10 12 14 16 18], shape=(10,), dtype=int32)\n",
      "tf.Tensor([ 0  2  4  6  8 10 12 14 16 18], shape=(10,), dtype=int32)\n",
      "tf.Tensor([ 0  2  4  6  8 10 12 14 16 18], shape=(10,), dtype=int32)\n",
      "tf.Tensor([ 0  2  4  6  8 10 12 14 16 18], shape=(10,), dtype=int32)\n",
      "tf.Tensor([ 0  2  4  6  8 10 12 14 16 18], shape=(10,), dtype=int32)\n",
      "tf.Tensor([ 0  2  4  6  8 10 12 14 16 18], shape=(10,), dtype=int32)\n",
      "tf.Tensor([ 0  2  4  6  8 10 12 14 16 18], shape=(10,), dtype=int32)\n",
      "tf.Tensor([ 0  2  4  6  8 10 12 14 16 18], shape=(10,), dtype=int32)\n",
      "tf.Tensor([ 0  2  4  6  8 10 12 14 16 18], shape=(10,), dtype=int32)\n",
      "tf.Tensor([ 0  2  4  6  8 10 12 14 16 18], shape=(10,), dtype=int32)\n",
      "tf.Tensor([ 0  2  4  6  8 10 12 14 16 18], shape=(10,), dtype=int32)\n",
      "tf.Tensor([ 0  2  4  6  8 10 12 14 16 18], shape=(10,), dtype=int32)\n",
      "tf.Tensor([ 0  2  4  6  8 10 12 14 16 18], shape=(10,), dtype=int32)\n",
      "tf.Tensor([ 0  2  4  6  8 10 12 14 16 18], shape=(10,), dtype=int32)\n",
      "tf.Tensor([ 0  2  4  6  8 10 12 14 16 18], shape=(10,), dtype=int32)\n",
      "tf.Tensor([ 0  2  4  6  8 10 12 14 16 18], shape=(10,), dtype=int32)\n",
      "tf.Tensor([ 0  2  4  6  8 10 12 14 16 18], shape=(10,), dtype=int32)\n",
      "tf.Tensor([ 0  2  4  6  8 10 12 14 16 18], shape=(10,), dtype=int32)\n",
      "tf.Tensor([ 0  2  4  6  8 10 12 14 16 18], shape=(10,), dtype=int32)\n",
      "tf.Tensor([ 0  2  4  6  8 10 12 14 16 18], shape=(10,), dtype=int32)\n",
      "tf.Tensor([ 0  2  4  6  8 10 12 14 16 18], shape=(10,), dtype=int32)\n",
      "tf.Tensor([ 0  2  4  6  8 10 12 14 16 18], shape=(10,), dtype=int32)\n",
      "tf.Tensor([ 0  2  4  6  8 10 12 14 16 18], shape=(10,), dtype=int32)\n",
      "tf.Tensor([ 0  2  4  6  8 10 12 14 16 18], shape=(10,), dtype=int32)\n",
      "tf.Tensor([ 0  2  4  6  8 10 12 14 16 18], shape=(10,), dtype=int32)\n",
      "tf.Tensor([ 0  2  4  6  8 10 12 14 16 18], shape=(10,), dtype=int32)\n",
      "tf.Tensor([ 0  2  4  6  8 10 12 14 16 18], shape=(10,), dtype=int32)\n",
      "tf.Tensor([ 0  2  4  6  8 10 12 14 16 18], shape=(10,), dtype=int32)\n",
      "tf.Tensor([ 0  2  4  6  8 10 12 14 16 18], shape=(10,), dtype=int32)\n",
      "tf.Tensor([ 0  2  4  6  8 10 12 14 16 18], shape=(10,), dtype=int32)\n",
      "tf.Tensor([ 0  2  4  6  8 10 12 14 16 18], shape=(10,), dtype=int32)\n",
      "tf.Tensor([ 0  2  4  6  8 10 12 14 16 18], shape=(10,), dtype=int32)\n",
      "tf.Tensor([ 0  2  4  6  8 10 12 14 16 18], shape=(10,), dtype=int32)\n",
      "tf.Tensor([ 0  2  4  6  8 10 12 14 16 18], shape=(10,), dtype=int32)\n",
      "tf.Tensor([ 0  2  4  6  8 10 12 14 16 18], shape=(10,), dtype=int32)\n",
      "tf.Tensor([ 0  2  4  6  8 10 12 14 16 18], shape=(10,), dtype=int32)\n",
      "tf.Tensor([ 0  2  4  6  8 10 12 14 16 18], shape=(10,), dtype=int32)\n",
      "tf.Tensor([ 0  2  4  6  8 10 12 14 16 18], shape=(10,), dtype=int32)\n",
      "tf.Tensor([ 0  2  4  6  8 10 12 14 16 18], shape=(10,), dtype=int32)\n",
      "tf.Tensor([ 0  2  4  6  8 10 12 14 16 18], shape=(10,), dtype=int32)\n",
      "tf.Tensor([ 0  2  4  6  8 10 12 14 16 18], shape=(10,), dtype=int32)\n",
      "tf.Tensor([ 0  2  4  6  8 10 12 14 16 18], shape=(10,), dtype=int32)\n",
      "tf.Tensor([ 0  2  4  6  8 10 12 14 16 18], shape=(10,), dtype=int32)\n",
      "tf.Tensor([ 0  2  4  6  8 10 12 14 16 18], shape=(10,), dtype=int32)\n",
      "tf.Tensor([ 0  2  4  6  8 10 12 14 16 18], shape=(10,), dtype=int32)\n",
      "tf.Tensor([ 0  2  4  6  8 10 12 14 16 18], shape=(10,), dtype=int32)\n",
      "tf.Tensor([ 0  2  4  6  8 10 12 14 16 18], shape=(10,), dtype=int32)\n",
      "tf.Tensor([ 0  2  4  6  8 10 12 14 16 18], shape=(10,), dtype=int32)\n",
      "tf.Tensor([ 0  2  4  6  8 10 12 14 16 18], shape=(10,), dtype=int32)\n",
      "tf.Tensor([ 0  2  4  6  8 10 12 14 16 18], shape=(10,), dtype=int32)\n",
      "tf.Tensor([ 0  2  4  6  8 10 12 14 16 18], shape=(10,), dtype=int32)\n",
      "tf.Tensor([ 0  2  4  6  8 10 12 14 16 18], shape=(10,), dtype=int32)\n",
      "tf.Tensor([ 0  2  4  6  8 10 12 14 16 18], shape=(10,), dtype=int32)\n",
      "tf.Tensor([ 0  2  4  6  8 10 12 14 16 18], shape=(10,), dtype=int32)\n",
      "tf.Tensor([ 0  2  4  6  8 10 12 14 16 18], shape=(10,), dtype=int32)\n",
      "tf.Tensor([ 0  2  4  6  8 10 12 14 16 18], shape=(10,), dtype=int32)\n",
      "tf.Tensor([ 0  2  4  6  8 10 12 14 16 18], shape=(10,), dtype=int32)\n",
      "tf.Tensor([ 0  2  4  6  8 10 12 14 16 18], shape=(10,), dtype=int32)\n",
      "tf.Tensor([ 0  2  4  6  8 10 12 14 16 18], shape=(10,), dtype=int32)\n",
      "tf.Tensor([ 0  2  4  6  8 10 12 14 16 18], shape=(10,), dtype=int32)\n",
      "tf.Tensor([ 0  2  4  6  8 10 12 14 16 18], shape=(10,), dtype=int32)\n",
      "tf.Tensor([ 0  2  4  6  8 10 12 14 16 18], shape=(10,), dtype=int32)\n",
      "tf.Tensor([ 0  2  4  6  8 10 12 14 16 18], shape=(10,), dtype=int32)\n"
     ]
    }
   ],
   "execution_count": 19
  },
  {
   "metadata": {
    "ExecuteTime": {
     "end_time": "2025-03-03T03:59:56.632084Z",
     "start_time": "2025-03-03T03:59:56.602800Z"
    }
   },
   "cell_type": "code",
   "source": [
    "dataset = dataset.apply(tf.data.experimental.unbatch())\n",
    "\n",
    "dataset = dataset.filter(lambda x: x < 10)\n",
    "\n",
    "for item in dataset.take(3):\n",
    "    print(item)\n"
   ],
   "id": "557b9a76b29596ca",
   "outputs": [
    {
     "name": "stdout",
     "output_type": "stream",
     "text": [
      "tf.Tensor(0, shape=(), dtype=int32)\n",
      "tf.Tensor(2, shape=(), dtype=int32)\n",
      "tf.Tensor(4, shape=(), dtype=int32)\n"
     ]
    }
   ],
   "execution_count": 20
  },
  {
   "metadata": {
    "ExecuteTime": {
     "end_time": "2025-03-03T04:01:47.446247Z",
     "start_time": "2025-03-03T04:01:47.344010Z"
    }
   },
   "cell_type": "code",
   "source": [
    "dataset = tf.data.Dataset.range(10).repeat(3)\n",
    "dataset = dataset.shuffle(buffer_size=5, seed=42).batch(7)\n",
    "\n",
    "for item in dataset:\n",
    "    print(item)"
   ],
   "id": "dbdb68b1c4960334",
   "outputs": [
    {
     "name": "stdout",
     "output_type": "stream",
     "text": [
      "tf.Tensor([0 2 3 6 7 9 4], shape=(7,), dtype=int64)\n",
      "tf.Tensor([5 0 1 1 8 6 5], shape=(7,), dtype=int64)\n",
      "tf.Tensor([4 8 7 1 2 3 0], shape=(7,), dtype=int64)\n",
      "tf.Tensor([5 4 2 7 8 9 9], shape=(7,), dtype=int64)\n",
      "tf.Tensor([3 6], shape=(2,), dtype=int64)\n"
     ]
    }
   ],
   "execution_count": 24
  },
  {
   "metadata": {},
   "cell_type": "code",
   "outputs": [],
   "execution_count": null,
   "source": "",
   "id": "21703c687a4a8301"
  }
 ],
 "metadata": {
  "kernelspec": {
   "display_name": "Python 3",
   "language": "python",
   "name": "python3"
  },
  "language_info": {
   "codemirror_mode": {
    "name": "ipython",
    "version": 2
   },
   "file_extension": ".py",
   "mimetype": "text/x-python",
   "name": "python",
   "nbconvert_exporter": "python",
   "pygments_lexer": "ipython2",
   "version": "2.7.6"
  }
 },
 "nbformat": 4,
 "nbformat_minor": 5
}
